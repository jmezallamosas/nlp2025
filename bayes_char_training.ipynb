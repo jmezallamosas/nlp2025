{
 "cells": [
  {
   "cell_type": "code",
   "execution_count": 1,
   "metadata": {},
   "outputs": [
    {
     "name": "stderr",
     "output_type": "stream",
     "text": [
      "/tmp/ipykernel_125863/2530367474.py:5: TqdmExperimentalWarning: Using `tqdm.autonotebook.tqdm` in notebook mode. Use `tqdm.tqdm` instead to force console mode (e.g. in jupyter console)\n",
      "  from tqdm.autonotebook import tqdm\n",
      "[nltk_data] Downloading package punkt to\n",
      "[nltk_data]     /home/mezallamosas.j/nltk_data...\n",
      "[nltk_data]   Package punkt is already up-to-date!\n",
      "[nltk_data] Downloading package punkt_tab to\n",
      "[nltk_data]     /home/mezallamosas.j/nltk_data...\n",
      "[nltk_data]   Package punkt_tab is already up-to-date!\n"
     ]
    }
   ],
   "source": [
    "import torch\n",
    "import torch.nn as nn\n",
    "from torch.utils.data import TensorDataset, DataLoader\n",
    "import torch.optim as optim\n",
    "from tqdm.autonotebook import tqdm\n",
    "import neurallm_utils as nutils\n",
    "import wandb\n",
    "import os"
   ]
  },
  {
   "cell_type": "markdown",
   "metadata": {},
   "source": [
    "## Functions"
   ]
  },
  {
   "cell_type": "code",
   "execution_count": 2,
   "metadata": {},
   "outputs": [],
   "source": [
    "# -------------------------------\n",
    "# Data processing functions\n",
    "# -------------------------------\n",
    "\n",
    "def encode_tokens(data: list[list[str]], embedder: torch.nn.Embedding) -> list[list[int]]:\n",
    "    \"\"\"\n",
    "    Replaces each natural-language token with its embedder index.\n",
    "\n",
    "    e.g. [[\"<s>\", \"once\", \"upon\", \"a\", \"time\"],\n",
    "          [\"there\", \"was\", \"a\", ]]\n",
    "        ->\n",
    "        [[0, 59, 203, 1, 126],\n",
    "         [26, 15, 1]]\n",
    "        (The indices are arbitrary, as they are dependent on your embedder)\n",
    "\n",
    "    Params:\n",
    "        data: The corpus\n",
    "        embedder: An embedder trained on the given data.\n",
    "    \"\"\"\n",
    "\n",
    "    finalList = []\n",
    "    for list in data:\n",
    "        currList = []\n",
    "        for word in list:\n",
    "            index = embedder.token_to_index[word]\n",
    "            currList.append(index)\n",
    "        finalList.append(currList)\n",
    "\n",
    "    return finalList\n",
    "\n",
    "\n",
    "def create_ngrams(tokens: list, n: int) -> list:\n",
    "    \"\"\"Creates n-grams for the given token sequence.\n",
    "    Args:\n",
    "      tokens (list): a list of tokens as strings\n",
    "      n (int): the length of n-grams to create\n",
    "\n",
    "    Returns:\n",
    "      list: list of tuples of strings, each tuple being one of the individual n-grams\n",
    "    \"\"\"\n",
    "    # STUDENTS IMPLEMENT\n",
    "    res = []\n",
    "    for i in range(0, len(tokens)-n):\n",
    "        #append n gram + yth value\n",
    "        res.append(tokens[i:i+n+1])\n",
    "    return res\n",
    "\n",
    "def generate_ngram_training_samples(encoded: list[list[int]], ngram: int) -> list:\n",
    "    \"\"\"\n",
    "    Takes the **encoded** data (list of lists of ints) and \n",
    "    generates the training samples out of it.\n",
    "    \n",
    "    Parameters:\n",
    "        up to you, we've put in what we used\n",
    "        but you can add/remove as needed\n",
    "    return: \n",
    "    list of lists in the format [[x1, x2, ... , x(n-1), y], ...]\n",
    "    \"\"\"\n",
    "\n",
    "    #1 2 3 4\n",
    "    #[1,2, y=3]\n",
    "    #[2,3, y=4]\n",
    "\n",
    "    # if you'd like to use tqdm, you can use it like this:\n",
    "    # for i in tqdm(range(len(encoded))):\n",
    "    final_list = []\n",
    "    for list in encoded:\n",
    "        currList = create_ngrams(list, ngram-1)\n",
    "        final_list.extend(currList)\n",
    "    return final_list\n",
    "\n",
    "def split_sequences(training_sample):\n",
    "    x_sample = []\n",
    "    y_sample = []\n",
    "    for line in training_sample:\n",
    "        x_sample.append(line[0:-1])\n",
    "        y_sample.append(line[-1])\n",
    "    return x_sample, y_sample\n",
    "\n",
    "def create_dataloaders(X: list, y: list, num_sequences_per_batch: int, \n",
    "                       test_pct: float = 0.1, shuffle: bool = True) -> tuple[torch.utils.data.DataLoader]:\n",
    "    \"\"\"\n",
    "    Convert our data into a PyTorch DataLoader.    \n",
    "    A DataLoader is an object that splits the dataset into batches for training.\n",
    "    PyTorch docs: \n",
    "        https://pytorch.org/tutorials/beginner/basics/data_tutorial.html\n",
    "        https://pytorch.org/docs/stable/data.html\n",
    "\n",
    "    Note that you have to first convert your data into a PyTorch DataSet.\n",
    "    You DO NOT have to implement this yourself, instead you should use a TensorDataset.\n",
    "\n",
    "    You are in charge of splitting the data into train and test sets based on the given\n",
    "    test_pct. There are several functions you can use to acheive this!\n",
    "\n",
    "    The shuffle parameter refers to shuffling the data *in the loader* (look at the docs),\n",
    "    not whether or not to shuffle the data before splitting it into train and test sets.\n",
    "    (don't shuffle before splitting)\n",
    "\n",
    "    Params:\n",
    "        X: A list of input sequences\n",
    "        Y: A list of labels\n",
    "        num_sequences_per_batch: Batch size\n",
    "        test_pct: The proportion of samples to use in the test set.\n",
    "        shuffle: INSTRUCTORS ONLY\n",
    "\n",
    "    Returns:\n",
    "        One DataLoader for training, and one for testing.\n",
    "    \"\"\"\n",
    "    \n",
    "    dataSet = TensorDataset(torch.tensor(X), torch.tensor(y))\n",
    "    test_size = int(len(dataSet)*test_pct)\n",
    "    train_size = len(dataSet) - test_size\n",
    "    train_data, test_data = torch.utils.data.random_split(dataSet, [train_size, test_size])\n",
    "    dataloader_train = DataLoader(train_data, batch_size=num_sequences_per_batch, shuffle=shuffle)\n",
    "    dataloader_test = DataLoader(test_data, batch_size=num_sequences_per_batch, shuffle=shuffle)\n",
    "    return dataloader_train, dataloader_test\n",
    "\n",
    "# -------------------------------\n",
    "# FFNN Model and Training Functions\n",
    "# -------------------------------\n",
    "\n",
    "class FFNN(nn.Module):\n",
    "    \"\"\"\n",
    "    A Feed-Forward Neural Network for language modeling.\n",
    "    \"\"\"\n",
    "    def __init__(self, vocab_size: int, ngram: int, embedding_layer: torch.nn.Embedding, hidden_units=128, device: str = \"cpu\"):\n",
    "        \"\"\"\n",
    "        Initialize a new untrained model.\n",
    "        \n",
    "        Params:\n",
    "            vocab_size: Number of words in the vocabulary.\n",
    "            ngram: The N value (window size) for training.\n",
    "            embedding_layer: Pre-trained embedding layer.\n",
    "            hidden_units: Number of hidden units in the hidden layer.\n",
    "        \"\"\"\n",
    "        super().__init__()\n",
    "        self.vocab_size = vocab_size\n",
    "        self.ngram = ngram\n",
    "        self.embedding_layer = embedding_layer\n",
    "        self.hidden_units = hidden_units\n",
    "        self.device = device\n",
    "        \n",
    "        # Get embedding dimension from the provided embedder.\n",
    "        embedding_size = embedding_layer.embedding_dim\n",
    "        \n",
    "        # Define the network: flatten embedded n-gram tokens, then two linear layers with ReLU.\n",
    "        self.flatten = nn.Flatten()\n",
    "        self.linear_relu_stack = nn.Sequential(\n",
    "            nn.Linear(in_features=(ngram-1) * embedding_size, out_features=hidden_units, bias=True),\n",
    "            nn.ReLU(),\n",
    "            nn.Linear(in_features=hidden_units, out_features=vocab_size, bias=True)\n",
    "        )\n",
    "        \n",
    "        # Move class to its own device\n",
    "        self.to(device)\n",
    "        \n",
    "    def forward(self, X: torch.Tensor) -> torch.Tensor:\n",
    "        \"\"\"\n",
    "        Forward pass through the network.\n",
    "        \n",
    "        Params:\n",
    "            X: Tensor of input indices with shape (batch_size, ngram-1)\n",
    "        \n",
    "        Returns:\n",
    "            Logits of shape (batch_size, vocab_size).\n",
    "        \"\"\"\n",
    "        embedded = self.embedding_layer(X)\n",
    "        flat_embedded = self.flatten(embedded)\n",
    "        logits = self.linear_relu_stack(flat_embedded)\n",
    "        return logits\n",
    "\n",
    "def train_one_epoch(dataloader, model, optimizer, loss_fn):\n",
    "    epoch_loss = 0\n",
    "    for inputs, labels in dataloader:\n",
    "        inputs, labels = inputs.to(model.device), labels.to(model.device)\n",
    "        optimizer.zero_grad()                  # Zero gradients for this batch.\n",
    "        outputs = model(inputs)                # Forward pass.\n",
    "        batch_loss = loss_fn(outputs, labels)  # Compute loss.\n",
    "        batch_loss.backward()                  # Backpropagation.\n",
    "        optimizer.step()                       # Update weights.\n",
    "        epoch_loss += batch_loss.item()\n",
    "    return epoch_loss\n",
    "\n",
    "def train(dataloader, model, epochs: int = 1, lr: float = 0.001) -> None:\n",
    "    \"\"\"\n",
    "    Train the model.\n",
    "    \n",
    "    Params:\n",
    "        dataloader: Training data loader.\n",
    "        model: The model to train.\n",
    "        epochs: Number of epochs.\n",
    "        lr: Learning rate.\n",
    "    \"\"\"\n",
    "    optimizer = optim.Adam(model.parameters(), lr=lr)\n",
    "    loss_fn = nn.CrossEntropyLoss()\n",
    "    n_batches = len(dataloader)\n",
    "    \n",
    "    model.train()  # Set the model to training mode.\n",
    "    \n",
    "    for epoch in tqdm(range(epochs), desc=\"Training Epochs\"):\n",
    "        epoch_loss = train_one_epoch(dataloader, model, optimizer, loss_fn)\n",
    "        avg_epoch_loss = epoch_loss / n_batches\n",
    "        print(f\"Epoch: {epoch+1}, Average Loss: {avg_epoch_loss:.4f}\")\n",
    "        # Log metrics to wandb\n",
    "        wandb.log({\"epoch\": epoch+1, \"avg_epoch_loss\": avg_epoch_loss})\n",
    "    return avg_epoch_loss\n",
    "\n",
    "def full_pipeline(data, word_embeddings_filename: str, \n",
    "                  batch_size: int,\n",
    "                  ngram: int,\n",
    "                  hidden_units: int = 128,\n",
    "                  epochs: int = 1,\n",
    "                  lr: float = 0.001,\n",
    "                  test_pct: float = 0.1, device: str = \"cpu\") -> FFNN:\n",
    "    \"\"\"\n",
    "    Run the full training pipeline from loading embeddings to model training.\n",
    "    \n",
    "    Params:\n",
    "        data: Raw data as a list of lists of tokens (here, integer indices).\n",
    "        word_embeddings_filename: Filename for the pre-trained embeddings.\n",
    "        batch_size: Batch size for training.\n",
    "        ngram: N-gram size.\n",
    "        hidden_units: Number of hidden units.\n",
    "        epochs: Number of epochs.\n",
    "        lr: Learning rate.\n",
    "        test_pct: Percentage of data for testing (not used in training).\n",
    "    \n",
    "    Returns:\n",
    "        The trained FFNN model.\n",
    "    \"\"\"\n",
    "    # Load embeddings and create an embedder.\n",
    "    token_embeddings = nutils.load_word2vec(word_embeddings_filename)\n",
    "    embedder = nutils.create_embedder(token_embeddings)\n",
    "    \n",
    "    # Preprocess data.\n",
    "    encoded_tokens = encode_tokens(data, embedder)\n",
    "    vocab_size = embedder.num_embeddings\n",
    "    training_sample = generate_ngram_training_samples(encoded_tokens, ngram)\n",
    "    x_sample, y_sample = split_sequences(training_sample)\n",
    "    dataloader_train, _ = create_dataloaders(x_sample, y_sample, batch_size, test_pct)\n",
    "    \n",
    "    # Initialize the model.\n",
    "    model = FFNN(vocab_size=vocab_size, ngram=ngram, embedding_layer=embedder, hidden_units=hidden_units, device=device)\n",
    "\n",
    "    # Train the model.\n",
    "    final_loss = train(dataloader=dataloader_train, model=model, epochs=epochs, lr=lr)\n",
    "    \n",
    "    return model, final_loss\n",
    "\n",
    "# -------------------------------\n",
    "# Prediction and generation functions\n",
    "# -------------------------------\n",
    "\n",
    "# Create a function that predicts the next token in a sequence.\n",
    "def predict(model, input_tokens) -> str:\n",
    "    \"\"\"\n",
    "    Get the model's next word prediction for an input.\n",
    "    This is where you'll use the softmax function!\n",
    "    Assume that the input tokens do not contain any unknown tokens.\n",
    "\n",
    "    Params:\n",
    "        model: Your trained model\n",
    "        input_tokens: A list of natural-language tokens. Must be length N-1.\n",
    "\n",
    "    Returns:\n",
    "        The predicted token (not the predicted index!)\n",
    "    \"\"\"\n",
    "    # YOUR CODE HERE\n",
    "\t# Encode tokens\n",
    "    encoded_tokens = [model.embedding_layer.token_to_index[token] for token in input_tokens]\n",
    "    \n",
    "\t# Trasform to tensor\n",
    "    encoded_tokens = torch.tensor([encoded_tokens]).to(model.device) # Dim [1, ngram-1]\n",
    "    \n",
    "    # Setting model to evaluation mode turns off Dropout and BatchNorm making the predictions deterministic\n",
    "    model.eval()  # Set the model to evaluation mode if you haven't already\n",
    "    \n",
    "    with torch.no_grad(): # Speeds up inference and reduces memory usage by not having to calcualte gradients\n",
    "        logits = model(encoded_tokens) # Forward pass on the model\n",
    "        probability = nn.functional.softmax(logits, dim=1) # Normalize z scores to probability\n",
    "        predicted_idx = torch.multinomial(probability, num_samples=1).item()\n",
    "\n",
    "        #predicted_idx = probability.argmax(dim=1).item() # Retrieve int value\n",
    "\t\t\n",
    "\t# Transform index to natural-language token\n",
    "    predicted_token = model.embedding_layer.index_to_token[predicted_idx] \n",
    "    \n",
    "    return predicted_token\n",
    "\n",
    "from typing import List\n",
    "# Generate a sequence from the model until you get an end of sentence token.\n",
    "def generate(model, seed: List[str], max_tokens: int = None) -> List[str]:\n",
    "    \"\"\"\n",
    "    Use the trained model to generate a sentence.\n",
    "    This should be somewhat similar to generation for HW2...\n",
    "    Make sure to use your predict function!\n",
    "\n",
    "    Params:\n",
    "        model: Your trained model\n",
    "        seed: [w_1, w_2, ..., w_(n-1)].\n",
    "        max_tokens: The maximum number of tokens to generate. When None, should gener\n",
    "            generate until the end of sentence token is reached.\n",
    "\n",
    "    Return:\n",
    "        A list of generated tokens.\n",
    "    \"\"\" \n",
    "    n_tokens = 0 # Count tokens that have been generated\n",
    "    tokens = seed.copy() # Copy of initial seed\n",
    "    end_token = \"<\\s>\"\n",
    "    \n",
    "    while True:\n",
    "        for_prediction = seed[-(model.ngram-1):]\n",
    "        predicted_token = predict(model, for_prediction)\n",
    "        if predicted_token == end_token:\n",
    "        \tbreak\n",
    "        tokens.append(predicted_token)\n",
    "        n_tokens += 1\n",
    "        if max_tokens is not None and n_tokens >= max_tokens:\n",
    "            break\n",
    "        \n",
    "    return tokens\n",
    "\n",
    "def generate_sentences(model, seed: List[str],  n_sentences: int, max_tokens: int = None) -> List[str]:\n",
    "    return [generate(model, seed, max_tokens) for i in range(n_sentences)]\n",
    "\n",
    "# you might want to define some functions to help you format the text nicely\n",
    "# and/or generate multiple sequences\n",
    "\n",
    "def format_sentence(tokens_list: List[List[str]], by_char = False) -> str:\n",
    "  \"\"\"Removes <s> at the start of the sentence and </s> at ehe end. Joins the list of tokens into a string and capitalizes it.\n",
    "  Args:\n",
    "    tokens (list(list)): the list of tokens list to be formatted into a sentence\n",
    "\n",
    "  Returns:\n",
    "    string: formatted sentence as a string\n",
    "  \n",
    "  \"\"\"\n",
    "  text = \"\" # Initializing final sentence\n",
    "  for tokens in tokens_list: # Parsing through each individual sentence\n",
    "    while tokens[0] == '<s>': # Removes all <s> at the beggining even if there are several for ngram > 2 models\n",
    "      tokens.pop(0)\n",
    "    if tokens[-1] == '</s>': # Removes the one </s> at the end of the sentence\n",
    "      tokens.pop(-1)\n",
    "    if by_char:\n",
    "      sentence = \"\".join(tokens) # Converts list of tokens into a string\n",
    "      sentence = sentence.capitalize() # Capitalizes the first letter of each sentence\n",
    "    else:\n",
    "      sentence = \" \".join(tokens) # Converts list of tokens into a string\n",
    "      sentence = sentence.capitalize() # Capitalizes the first letter of each sentence\n",
    "    text += sentence + \".\\n\" # Adds a period and space separator between sentences\n",
    "  return text.strip(\" \") # Removes the last space in the last sentence\n"
   ]
  },
  {
   "cell_type": "markdown",
   "metadata": {},
   "source": [
    "## Main Pipeline"
   ]
  },
  {
   "cell_type": "code",
   "execution_count": 3,
   "metadata": {},
   "outputs": [
    {
     "name": "stdout",
     "output_type": "stream",
     "text": [
      "cuda\n"
     ]
    }
   ],
   "source": [
    "device = torch.device(\"cuda\" if torch.cuda.is_available() else \"cpu\")\n",
    "print(device)"
   ]
  },
  {
   "cell_type": "code",
   "execution_count": 4,
   "metadata": {},
   "outputs": [],
   "source": [
    "def main():\n",
    "\t# Initialize a wandb run (hyperparameters come from wandb.config).\n",
    "\twandb.init(\n",
    "\t\tentity = \"northeastern-university\",\n",
    "\t\tproject = \"neural-language-model\"\n",
    "\t\t)\n",
    "\t\n",
    "\tconfig = wandb.config\n",
    "\n",
    "\tEMBEDDINGS_SIZE = config.embeddings_size\n",
    "\tNGRAM = config.ngram\n",
    "\tNUM_SEQUENCES_PER_BATCH = config.batch_size\n",
    "\tHIDDEN_UNITS = config.hidden_units\n",
    "\tEPOCHS = config.epochs\n",
    "\tLR = config.lr\n",
    "\tTEXT_TYPE = \"char\"\n",
    "\n",
    "\tTRAIN_FILE = 'spooky_author_train.csv' # The file to train your language model on\n",
    "\n",
    "\tEMBEDDING_SAVE_FILE_WORD = f\"embeddings/spooky_embedding_word_{EMBEDDINGS_SIZE}.model\" # The file to save your word embeddings to\n",
    "\tEMBEDDING_SAVE_FILE_CHAR = f\"embeddings/spooky_embedding_char_{EMBEDDINGS_SIZE}.model\" # The file to save your char embeddings to\n",
    "\tMODEL_FILE_WORD = f'models/spooky_author_model_word_{EMBEDDINGS_SIZE}_{NUM_SEQUENCES_PER_BATCH}_{NGRAM}_{HIDDEN_UNITS}_{EPOCHS}_{LR}.pt' # The file to save your trained word-based neural LM to\n",
    "\tMODEL_FILE_CHAR = f'models/spooky_author_model_char_{EMBEDDINGS_SIZE}_{NUM_SEQUENCES_PER_BATCH}_{NGRAM}_{HIDDEN_UNITS}_{EPOCHS}_{LR}.pt' # The file to save your trained char-based neural LM to\n",
    "\n",
    "\tif TEXT_TYPE == \"word\":\n",
    "\t\tdata = nutils.read_file_spooky(TRAIN_FILE, NGRAM, by_character=False)\n",
    "\t\tword_embeddings_filename = EMBEDDING_SAVE_FILE_WORD\n",
    "\t\tif not os.path.exists(word_embeddings_filename):\n",
    "\t\t\ttrained_word = nutils.train_word2vec(data, EMBEDDINGS_SIZE)\n",
    "\t\t\tnutils.save_word2vec(trained_word, EMBEDDING_SAVE_FILE_WORD)\n",
    "\n",
    "\telif TEXT_TYPE == \"char\":\n",
    "\t\tdata = nutils.read_file_spooky(TRAIN_FILE, NGRAM, by_character=True)\n",
    "\t\tword_embeddings_filename = EMBEDDING_SAVE_FILE_CHAR\n",
    "\t\tif not os.path.exists(word_embeddings_filename):\n",
    "\t\t\ttrained_char = nutils.train_word2vec(data, EMBEDDINGS_SIZE)\n",
    "\t\t\tnutils.save_word2vec(trained_char, EMBEDDING_SAVE_FILE_CHAR)\n",
    "\n",
    "\tdevice = torch.device(\"cuda\" if torch.cuda.is_available() else \"cpu\")\n",
    "\n",
    "\tmodel, final_loss = full_pipeline(\n",
    "\t\tdata=data,\n",
    "\t\tword_embeddings_filename = word_embeddings_filename,\n",
    "\t\tbatch_size=NUM_SEQUENCES_PER_BATCH,\n",
    "\t\tngram=NGRAM,\n",
    "\t\thidden_units=config.hidden_units,\n",
    "\t\tepochs=config.epochs,\n",
    "\t\tlr=config.lr,\n",
    "\t\ttest_pct=config.test_pct,\n",
    "\t\tdevice = device\n",
    "\t)\n",
    "\n",
    "\tif TEXT_TYPE == \"word\":\n",
    "\t\ttorch.save(model.state_dict(), MODEL_FILE_WORD)\n",
    "\n",
    "\telif TEXT_TYPE == \"char\":\n",
    "\t\ttorch.save(model.state_dict(), MODEL_FILE_CHAR)\n",
    "\n",
    "\twandb.log({\"final_loss\": final_loss})\n",
    "\twandb.finish()\n",
    "\t"
   ]
  },
  {
   "cell_type": "code",
   "execution_count": 5,
   "metadata": {},
   "outputs": [],
   "source": [
    "# Define the sweep configuration\n",
    "sweep_config = {\n",
    "    \"name\": \"char_bayes_hyperparameter_sweep\",\n",
    "\t\"method\": \"bayes\",  # Options: \"grid\", \"random\", \"bayes\"\n",
    "\t\"metric\": {\n",
    "\t\t\"name\": \"avg_epoch_loss\",\n",
    "\t\t\"goal\": \"minimize\"  # We want to minimize the training loss.\n",
    "\t},\n",
    "\t\"parameters\": {\n",
    "\t\t\"embeddings_size\": {\"values\": [50, 100, 200]},\n",
    "\t\t\"batch_size\": {\"values\": [128, 256, 512]},\n",
    "\t\t\"ngram\": {\"values\": [2, 3, 4, 5]},\n",
    "\t\t\"hidden_units\": {\"values\": [128, 256, 512]},\n",
    "\t\t\"epochs\": {\"values\": [5, 10, 25, 50]},\n",
    "\t\t\"lr\": {\"values\": [0.001, 0.0001, 0.00001]},\n",
    "\t\t\"test_pct\": {\"value\": 0.1} # Fixed value.\n",
    "}\n",
    "}"
   ]
  },
  {
   "cell_type": "code",
   "execution_count": 6,
   "metadata": {},
   "outputs": [
    {
     "name": "stderr",
     "output_type": "stream",
     "text": [
      "Failed to detect the name of this notebook, you can set it manually with the WANDB_NOTEBOOK_NAME environment variable to enable code saving.\n",
      "\u001b[34m\u001b[1mwandb\u001b[0m: Using wandb-core as the SDK backend.  Please refer to https://wandb.me/wandb-core for more information.\n"
     ]
    },
    {
     "name": "stdout",
     "output_type": "stream",
     "text": [
      "Create sweep with ID: jq051k9u\n",
      "Sweep URL: https://wandb.ai/biofx/neural-language-model/sweeps/jq051k9u\n",
      "Sweep ID: jq051k9u\n"
     ]
    }
   ],
   "source": [
    "# Register the sweep with wandb.\n",
    "sweep_id = wandb.sweep(sweep_config,\n",
    "                       project=\"neural-language-model\")\n",
    "print(\"Sweep ID:\", sweep_id)"
   ]
  },
  {
   "cell_type": "code",
   "execution_count": null,
   "metadata": {},
   "outputs": [
    {
     "name": "stderr",
     "output_type": "stream",
     "text": [
      "\u001b[34m\u001b[1mwandb\u001b[0m: Agent Starting Run: x416c6gc with config:\n",
      "\u001b[34m\u001b[1mwandb\u001b[0m: \tbatch_size: 256\n",
      "\u001b[34m\u001b[1mwandb\u001b[0m: \tembeddings_size: 50\n",
      "\u001b[34m\u001b[1mwandb\u001b[0m: \tepochs: 25\n",
      "\u001b[34m\u001b[1mwandb\u001b[0m: \thidden_units: 256\n",
      "\u001b[34m\u001b[1mwandb\u001b[0m: \tlr: 0.001\n",
      "\u001b[34m\u001b[1mwandb\u001b[0m: \tngram: 3\n",
      "\u001b[34m\u001b[1mwandb\u001b[0m: \ttest_pct: 0.1\n",
      "Failed to detect the name of this notebook, you can set it manually with the WANDB_NOTEBOOK_NAME environment variable to enable code saving.\n",
      "\u001b[34m\u001b[1mwandb\u001b[0m: Currently logged in as: \u001b[33mmezallamosasj\u001b[0m (\u001b[33mbiofx\u001b[0m) to \u001b[32mhttps://api.wandb.ai\u001b[0m. Use \u001b[1m`wandb login --relogin`\u001b[0m to force relogin\n"
     ]
    },
    {
     "data": {
      "text/html": [
       "Ignoring project 'neural-language-model' when running a sweep."
      ],
      "text/plain": [
       "<IPython.core.display.HTML object>"
      ]
     },
     "metadata": {},
     "output_type": "display_data"
    },
    {
     "data": {
      "text/html": [
       "Ignoring entity 'northeastern-university' when running a sweep."
      ],
      "text/plain": [
       "<IPython.core.display.HTML object>"
      ]
     },
     "metadata": {},
     "output_type": "display_data"
    },
    {
     "data": {
      "text/html": [
       "Tracking run with wandb version 0.19.8"
      ],
      "text/plain": [
       "<IPython.core.display.HTML object>"
      ]
     },
     "metadata": {},
     "output_type": "display_data"
    },
    {
     "data": {
      "text/html": [
       "Run data is saved locally in <code>/home/mezallamosas.j/nlp2025/wandb/run-20250311_215854-x416c6gc</code>"
      ],
      "text/plain": [
       "<IPython.core.display.HTML object>"
      ]
     },
     "metadata": {},
     "output_type": "display_data"
    },
    {
     "data": {
      "text/html": [
       "Syncing run <strong><a href='https://wandb.ai/biofx/neural-language-model/runs/x416c6gc' target=\"_blank\">wild-sweep-1</a></strong> to <a href='https://wandb.ai/biofx/neural-language-model' target=\"_blank\">Weights & Biases</a> (<a href='https://wandb.me/developer-guide' target=\"_blank\">docs</a>)<br>Sweep page: <a href='https://wandb.ai/biofx/neural-language-model/sweeps/jq051k9u' target=\"_blank\">https://wandb.ai/biofx/neural-language-model/sweeps/jq051k9u</a>"
      ],
      "text/plain": [
       "<IPython.core.display.HTML object>"
      ]
     },
     "metadata": {},
     "output_type": "display_data"
    },
    {
     "data": {
      "text/html": [
       " View project at <a href='https://wandb.ai/biofx/neural-language-model' target=\"_blank\">https://wandb.ai/biofx/neural-language-model</a>"
      ],
      "text/plain": [
       "<IPython.core.display.HTML object>"
      ]
     },
     "metadata": {},
     "output_type": "display_data"
    },
    {
     "data": {
      "text/html": [
       " View sweep at <a href='https://wandb.ai/biofx/neural-language-model/sweeps/jq051k9u' target=\"_blank\">https://wandb.ai/biofx/neural-language-model/sweeps/jq051k9u</a>"
      ],
      "text/plain": [
       "<IPython.core.display.HTML object>"
      ]
     },
     "metadata": {},
     "output_type": "display_data"
    },
    {
     "data": {
      "text/html": [
       " View run at <a href='https://wandb.ai/biofx/neural-language-model/runs/x416c6gc' target=\"_blank\">https://wandb.ai/biofx/neural-language-model/runs/x416c6gc</a>"
      ],
      "text/plain": [
       "<IPython.core.display.HTML object>"
      ]
     },
     "metadata": {},
     "output_type": "display_data"
    },
    {
     "data": {
      "application/vnd.jupyter.widget-view+json": {
       "model_id": "65a24336bd1441c890ab1dee414fc560",
       "version_major": 2,
       "version_minor": 0
      },
      "text/plain": [
       "Training Epochs:   0%|          | 0/25 [00:00<?, ?it/s]"
      ]
     },
     "metadata": {},
     "output_type": "display_data"
    },
    {
     "name": "stdout",
     "output_type": "stream",
     "text": [
      "Epoch: 1, Average Loss: 2.0879\n",
      "Epoch: 2, Average Loss: 1.9762\n",
      "Epoch: 3, Average Loss: 1.9611\n",
      "Epoch: 4, Average Loss: 1.9546\n",
      "Epoch: 5, Average Loss: 1.9509\n",
      "Epoch: 6, Average Loss: 1.9483\n",
      "Epoch: 7, Average Loss: 1.9465\n",
      "Epoch: 8, Average Loss: 1.9452\n",
      "Epoch: 9, Average Loss: 1.9441\n",
      "Epoch: 10, Average Loss: 1.9433\n",
      "Epoch: 11, Average Loss: 1.9424\n",
      "Epoch: 12, Average Loss: 1.9417\n",
      "Epoch: 13, Average Loss: 1.9412\n",
      "Epoch: 14, Average Loss: 1.9406\n",
      "Epoch: 15, Average Loss: 1.9401\n",
      "Epoch: 16, Average Loss: 1.9397\n",
      "Epoch: 17, Average Loss: 1.9393\n",
      "Epoch: 18, Average Loss: 1.9390\n",
      "Epoch: 19, Average Loss: 1.9386\n",
      "Epoch: 20, Average Loss: 1.9383\n",
      "Epoch: 21, Average Loss: 1.9380\n",
      "Epoch: 22, Average Loss: 1.9376\n",
      "Epoch: 23, Average Loss: 1.9373\n",
      "Epoch: 24, Average Loss: 1.9372\n",
      "Epoch: 25, Average Loss: 1.9370\n"
     ]
    },
    {
     "data": {
      "text/html": [],
      "text/plain": [
       "<IPython.core.display.HTML object>"
      ]
     },
     "metadata": {},
     "output_type": "display_data"
    },
    {
     "data": {
      "text/html": [
       "<br>    <style><br>        .wandb-row {<br>            display: flex;<br>            flex-direction: row;<br>            flex-wrap: wrap;<br>            justify-content: flex-start;<br>            width: 100%;<br>        }<br>        .wandb-col {<br>            display: flex;<br>            flex-direction: column;<br>            flex-basis: 100%;<br>            flex: 1;<br>            padding: 10px;<br>        }<br>    </style><br><div class=\"wandb-row\"><div class=\"wandb-col\"><h3>Run history:</h3><br/><table class=\"wandb\"><tr><td>avg_epoch_loss</td><td>█▃▂▂▂▂▁▁▁▁▁▁▁▁▁▁▁▁▁▁▁▁▁▁▁</td></tr><tr><td>epoch</td><td>▁▁▂▂▂▂▃▃▃▄▄▄▅▅▅▅▆▆▆▇▇▇▇██</td></tr><tr><td>final_loss</td><td>▁</td></tr></table><br/></div><div class=\"wandb-col\"><h3>Run summary:</h3><br/><table class=\"wandb\"><tr><td>avg_epoch_loss</td><td>1.93695</td></tr><tr><td>epoch</td><td>25</td></tr><tr><td>final_loss</td><td>1.93695</td></tr></table><br/></div></div>"
      ],
      "text/plain": [
       "<IPython.core.display.HTML object>"
      ]
     },
     "metadata": {},
     "output_type": "display_data"
    },
    {
     "data": {
      "text/html": [
       " View run <strong style=\"color:#cdcd00\">wild-sweep-1</strong> at: <a href='https://wandb.ai/biofx/neural-language-model/runs/x416c6gc' target=\"_blank\">https://wandb.ai/biofx/neural-language-model/runs/x416c6gc</a><br> View project at: <a href='https://wandb.ai/biofx/neural-language-model' target=\"_blank\">https://wandb.ai/biofx/neural-language-model</a><br>Synced 5 W&B file(s), 0 media file(s), 0 artifact file(s) and 0 other file(s)"
      ],
      "text/plain": [
       "<IPython.core.display.HTML object>"
      ]
     },
     "metadata": {},
     "output_type": "display_data"
    },
    {
     "data": {
      "text/html": [
       "Find logs at: <code>./wandb/run-20250311_215854-x416c6gc/logs</code>"
      ],
      "text/plain": [
       "<IPython.core.display.HTML object>"
      ]
     },
     "metadata": {},
     "output_type": "display_data"
    },
    {
     "name": "stderr",
     "output_type": "stream",
     "text": [
      "\u001b[34m\u001b[1mwandb\u001b[0m: Agent Starting Run: imqa4nnn with config:\n",
      "\u001b[34m\u001b[1mwandb\u001b[0m: \tbatch_size: 128\n",
      "\u001b[34m\u001b[1mwandb\u001b[0m: \tembeddings_size: 100\n",
      "\u001b[34m\u001b[1mwandb\u001b[0m: \tepochs: 50\n",
      "\u001b[34m\u001b[1mwandb\u001b[0m: \thidden_units: 256\n",
      "\u001b[34m\u001b[1mwandb\u001b[0m: \tlr: 1e-05\n",
      "\u001b[34m\u001b[1mwandb\u001b[0m: \tngram: 4\n",
      "\u001b[34m\u001b[1mwandb\u001b[0m: \ttest_pct: 0.1\n",
      "Failed to detect the name of this notebook, you can set it manually with the WANDB_NOTEBOOK_NAME environment variable to enable code saving.\n"
     ]
    },
    {
     "data": {
      "text/html": [
       "Ignoring project 'neural-language-model' when running a sweep."
      ],
      "text/plain": [
       "<IPython.core.display.HTML object>"
      ]
     },
     "metadata": {},
     "output_type": "display_data"
    },
    {
     "data": {
      "text/html": [
       "Ignoring entity 'northeastern-university' when running a sweep."
      ],
      "text/plain": [
       "<IPython.core.display.HTML object>"
      ]
     },
     "metadata": {},
     "output_type": "display_data"
    },
    {
     "data": {
      "text/html": [
       "Tracking run with wandb version 0.19.8"
      ],
      "text/plain": [
       "<IPython.core.display.HTML object>"
      ]
     },
     "metadata": {},
     "output_type": "display_data"
    },
    {
     "data": {
      "text/html": [
       "Run data is saved locally in <code>/home/mezallamosas.j/nlp2025/wandb/run-20250311_221101-imqa4nnn</code>"
      ],
      "text/plain": [
       "<IPython.core.display.HTML object>"
      ]
     },
     "metadata": {},
     "output_type": "display_data"
    },
    {
     "data": {
      "text/html": [
       "Syncing run <strong><a href='https://wandb.ai/biofx/neural-language-model/runs/imqa4nnn' target=\"_blank\">fragrant-sweep-2</a></strong> to <a href='https://wandb.ai/biofx/neural-language-model' target=\"_blank\">Weights & Biases</a> (<a href='https://wandb.me/developer-guide' target=\"_blank\">docs</a>)<br>Sweep page: <a href='https://wandb.ai/biofx/neural-language-model/sweeps/jq051k9u' target=\"_blank\">https://wandb.ai/biofx/neural-language-model/sweeps/jq051k9u</a>"
      ],
      "text/plain": [
       "<IPython.core.display.HTML object>"
      ]
     },
     "metadata": {},
     "output_type": "display_data"
    },
    {
     "data": {
      "text/html": [
       " View project at <a href='https://wandb.ai/biofx/neural-language-model' target=\"_blank\">https://wandb.ai/biofx/neural-language-model</a>"
      ],
      "text/plain": [
       "<IPython.core.display.HTML object>"
      ]
     },
     "metadata": {},
     "output_type": "display_data"
    },
    {
     "data": {
      "text/html": [
       " View sweep at <a href='https://wandb.ai/biofx/neural-language-model/sweeps/jq051k9u' target=\"_blank\">https://wandb.ai/biofx/neural-language-model/sweeps/jq051k9u</a>"
      ],
      "text/plain": [
       "<IPython.core.display.HTML object>"
      ]
     },
     "metadata": {},
     "output_type": "display_data"
    },
    {
     "data": {
      "text/html": [
       " View run at <a href='https://wandb.ai/biofx/neural-language-model/runs/imqa4nnn' target=\"_blank\">https://wandb.ai/biofx/neural-language-model/runs/imqa4nnn</a>"
      ],
      "text/plain": [
       "<IPython.core.display.HTML object>"
      ]
     },
     "metadata": {},
     "output_type": "display_data"
    },
    {
     "data": {
      "application/vnd.jupyter.widget-view+json": {
       "model_id": "ef95601f75ec4da19e5ac58fb1df6099",
       "version_major": 2,
       "version_minor": 0
      },
      "text/plain": [
       "Training Epochs:   0%|          | 0/50 [00:00<?, ?it/s]"
      ]
     },
     "metadata": {},
     "output_type": "display_data"
    },
    {
     "name": "stdout",
     "output_type": "stream",
     "text": [
      "Epoch: 1, Average Loss: 2.7266\n",
      "Epoch: 2, Average Loss: 2.3431\n",
      "Epoch: 3, Average Loss: 2.2606\n",
      "Epoch: 4, Average Loss: 2.2183\n",
      "Epoch: 5, Average Loss: 2.1889\n",
      "Epoch: 6, Average Loss: 2.1648\n",
      "Epoch: 7, Average Loss: 2.1430\n",
      "Epoch: 8, Average Loss: 2.1226\n",
      "Epoch: 9, Average Loss: 2.1037\n",
      "Epoch: 10, Average Loss: 2.0862\n",
      "Epoch: 11, Average Loss: 2.0702\n",
      "Epoch: 12, Average Loss: 2.0557\n",
      "Epoch: 13, Average Loss: 2.0425\n",
      "Epoch: 14, Average Loss: 2.0303\n",
      "Epoch: 15, Average Loss: 2.0192\n",
      "Epoch: 16, Average Loss: 2.0089\n",
      "Epoch: 17, Average Loss: 1.9993\n",
      "Epoch: 18, Average Loss: 1.9902\n",
      "Epoch: 19, Average Loss: 1.9817\n",
      "Epoch: 20, Average Loss: 1.9737\n",
      "Epoch: 21, Average Loss: 1.9661\n",
      "Epoch: 22, Average Loss: 1.9590\n",
      "Epoch: 23, Average Loss: 1.9522\n",
      "Epoch: 24, Average Loss: 1.9457\n",
      "Epoch: 25, Average Loss: 1.9397\n",
      "Epoch: 26, Average Loss: 1.9339\n",
      "Epoch: 27, Average Loss: 1.9284\n",
      "Epoch: 28, Average Loss: 1.9231\n",
      "Epoch: 29, Average Loss: 1.9182\n",
      "Epoch: 30, Average Loss: 1.9134\n",
      "Epoch: 31, Average Loss: 1.9089\n",
      "Epoch: 32, Average Loss: 1.9044\n",
      "Epoch: 33, Average Loss: 1.9002\n",
      "Epoch: 34, Average Loss: 1.8961\n",
      "Epoch: 35, Average Loss: 1.8921\n",
      "Epoch: 36, Average Loss: 1.8883\n",
      "Epoch: 37, Average Loss: 1.8846\n",
      "Epoch: 38, Average Loss: 1.8810\n",
      "Epoch: 39, Average Loss: 1.8776\n",
      "Epoch: 40, Average Loss: 1.8742\n",
      "Epoch: 41, Average Loss: 1.8710\n",
      "Epoch: 42, Average Loss: 1.8678\n",
      "Epoch: 43, Average Loss: 1.8648\n",
      "Epoch: 44, Average Loss: 1.8618\n",
      "Epoch: 45, Average Loss: 1.8589\n",
      "Epoch: 46, Average Loss: 1.8561\n",
      "Epoch: 47, Average Loss: 1.8534\n",
      "Epoch: 48, Average Loss: 1.8507\n",
      "Epoch: 49, Average Loss: 1.8481\n",
      "Epoch: 50, Average Loss: 1.8457\n"
     ]
    },
    {
     "data": {
      "text/html": [],
      "text/plain": [
       "<IPython.core.display.HTML object>"
      ]
     },
     "metadata": {},
     "output_type": "display_data"
    },
    {
     "data": {
      "text/html": [
       "<br>    <style><br>        .wandb-row {<br>            display: flex;<br>            flex-direction: row;<br>            flex-wrap: wrap;<br>            justify-content: flex-start;<br>            width: 100%;<br>        }<br>        .wandb-col {<br>            display: flex;<br>            flex-direction: column;<br>            flex-basis: 100%;<br>            flex: 1;<br>            padding: 10px;<br>        }<br>    </style><br><div class=\"wandb-row\"><div class=\"wandb-col\"><h3>Run history:</h3><br/><table class=\"wandb\"><tr><td>avg_epoch_loss</td><td>█▅▄▄▄▃▃▃▃▃▃▂▂▂▂▂▂▂▂▂▂▂▂▂▂▁▁▁▁▁▁▁▁▁▁▁▁▁▁▁</td></tr><tr><td>epoch</td><td>▁▁▁▁▂▂▂▂▃▃▃▃▃▃▄▄▄▄▄▄▅▅▅▅▅▆▆▆▆▆▆▇▇▇▇▇▇███</td></tr><tr><td>final_loss</td><td>▁</td></tr></table><br/></div><div class=\"wandb-col\"><h3>Run summary:</h3><br/><table class=\"wandb\"><tr><td>avg_epoch_loss</td><td>1.84566</td></tr><tr><td>epoch</td><td>50</td></tr><tr><td>final_loss</td><td>1.84566</td></tr></table><br/></div></div>"
      ],
      "text/plain": [
       "<IPython.core.display.HTML object>"
      ]
     },
     "metadata": {},
     "output_type": "display_data"
    },
    {
     "data": {
      "text/html": [
       " View run <strong style=\"color:#cdcd00\">fragrant-sweep-2</strong> at: <a href='https://wandb.ai/biofx/neural-language-model/runs/imqa4nnn' target=\"_blank\">https://wandb.ai/biofx/neural-language-model/runs/imqa4nnn</a><br> View project at: <a href='https://wandb.ai/biofx/neural-language-model' target=\"_blank\">https://wandb.ai/biofx/neural-language-model</a><br>Synced 5 W&B file(s), 0 media file(s), 0 artifact file(s) and 0 other file(s)"
      ],
      "text/plain": [
       "<IPython.core.display.HTML object>"
      ]
     },
     "metadata": {},
     "output_type": "display_data"
    },
    {
     "data": {
      "text/html": [
       "Find logs at: <code>./wandb/run-20250311_221101-imqa4nnn/logs</code>"
      ],
      "text/plain": [
       "<IPython.core.display.HTML object>"
      ]
     },
     "metadata": {},
     "output_type": "display_data"
    },
    {
     "name": "stderr",
     "output_type": "stream",
     "text": [
      "\u001b[34m\u001b[1mwandb\u001b[0m: Agent Starting Run: 4zuvps0f with config:\n",
      "\u001b[34m\u001b[1mwandb\u001b[0m: \tbatch_size: 512\n",
      "\u001b[34m\u001b[1mwandb\u001b[0m: \tembeddings_size: 50\n",
      "\u001b[34m\u001b[1mwandb\u001b[0m: \tepochs: 50\n",
      "\u001b[34m\u001b[1mwandb\u001b[0m: \thidden_units: 128\n",
      "\u001b[34m\u001b[1mwandb\u001b[0m: \tlr: 1e-05\n",
      "\u001b[34m\u001b[1mwandb\u001b[0m: \tngram: 2\n",
      "\u001b[34m\u001b[1mwandb\u001b[0m: \ttest_pct: 0.1\n",
      "Failed to detect the name of this notebook, you can set it manually with the WANDB_NOTEBOOK_NAME environment variable to enable code saving.\n"
     ]
    },
    {
     "data": {
      "text/html": [
       "Ignoring project 'neural-language-model' when running a sweep."
      ],
      "text/plain": [
       "<IPython.core.display.HTML object>"
      ]
     },
     "metadata": {},
     "output_type": "display_data"
    },
    {
     "data": {
      "text/html": [
       "Ignoring entity 'northeastern-university' when running a sweep."
      ],
      "text/plain": [
       "<IPython.core.display.HTML object>"
      ]
     },
     "metadata": {},
     "output_type": "display_data"
    },
    {
     "data": {
      "text/html": [
       "Tracking run with wandb version 0.19.8"
      ],
      "text/plain": [
       "<IPython.core.display.HTML object>"
      ]
     },
     "metadata": {},
     "output_type": "display_data"
    },
    {
     "data": {
      "text/html": [
       "Run data is saved locally in <code>/home/mezallamosas.j/nlp2025/wandb/run-20250311_224557-4zuvps0f</code>"
      ],
      "text/plain": [
       "<IPython.core.display.HTML object>"
      ]
     },
     "metadata": {},
     "output_type": "display_data"
    },
    {
     "data": {
      "text/html": [
       "Syncing run <strong><a href='https://wandb.ai/biofx/neural-language-model/runs/4zuvps0f' target=\"_blank\">chocolate-sweep-3</a></strong> to <a href='https://wandb.ai/biofx/neural-language-model' target=\"_blank\">Weights & Biases</a> (<a href='https://wandb.me/developer-guide' target=\"_blank\">docs</a>)<br>Sweep page: <a href='https://wandb.ai/biofx/neural-language-model/sweeps/jq051k9u' target=\"_blank\">https://wandb.ai/biofx/neural-language-model/sweeps/jq051k9u</a>"
      ],
      "text/plain": [
       "<IPython.core.display.HTML object>"
      ]
     },
     "metadata": {},
     "output_type": "display_data"
    },
    {
     "data": {
      "text/html": [
       " View project at <a href='https://wandb.ai/biofx/neural-language-model' target=\"_blank\">https://wandb.ai/biofx/neural-language-model</a>"
      ],
      "text/plain": [
       "<IPython.core.display.HTML object>"
      ]
     },
     "metadata": {},
     "output_type": "display_data"
    },
    {
     "data": {
      "text/html": [
       " View sweep at <a href='https://wandb.ai/biofx/neural-language-model/sweeps/jq051k9u' target=\"_blank\">https://wandb.ai/biofx/neural-language-model/sweeps/jq051k9u</a>"
      ],
      "text/plain": [
       "<IPython.core.display.HTML object>"
      ]
     },
     "metadata": {},
     "output_type": "display_data"
    },
    {
     "data": {
      "text/html": [
       " View run at <a href='https://wandb.ai/biofx/neural-language-model/runs/4zuvps0f' target=\"_blank\">https://wandb.ai/biofx/neural-language-model/runs/4zuvps0f</a>"
      ],
      "text/plain": [
       "<IPython.core.display.HTML object>"
      ]
     },
     "metadata": {},
     "output_type": "display_data"
    },
    {
     "data": {
      "application/vnd.jupyter.widget-view+json": {
       "model_id": "f2ebfed3980a487bbb65747015e54bd0",
       "version_major": 2,
       "version_minor": 0
      },
      "text/plain": [
       "Training Epochs:   0%|          | 0/50 [00:00<?, ?it/s]"
      ]
     },
     "metadata": {},
     "output_type": "display_data"
    },
    {
     "name": "stdout",
     "output_type": "stream",
     "text": [
      "Epoch: 1, Average Loss: 3.5441\n",
      "Epoch: 2, Average Loss: 2.9300\n",
      "Epoch: 3, Average Loss: 2.7993\n",
      "Epoch: 4, Average Loss: 2.6801\n",
      "Epoch: 5, Average Loss: 2.5876\n",
      "Epoch: 6, Average Loss: 2.5308\n",
      "Epoch: 7, Average Loss: 2.4976\n",
      "Epoch: 8, Average Loss: 2.4770\n",
      "Epoch: 9, Average Loss: 2.4628\n",
      "Epoch: 10, Average Loss: 2.4522\n",
      "Epoch: 11, Average Loss: 2.4438\n",
      "Epoch: 12, Average Loss: 2.4369\n",
      "Epoch: 13, Average Loss: 2.4312\n",
      "Epoch: 14, Average Loss: 2.4262\n",
      "Epoch: 15, Average Loss: 2.4220\n",
      "Epoch: 16, Average Loss: 2.4183\n",
      "Epoch: 17, Average Loss: 2.4152\n",
      "Epoch: 18, Average Loss: 2.4123\n",
      "Epoch: 19, Average Loss: 2.4098\n",
      "Epoch: 20, Average Loss: 2.4076\n",
      "Epoch: 21, Average Loss: 2.4056\n",
      "Epoch: 22, Average Loss: 2.4037\n",
      "Epoch: 23, Average Loss: 2.4020\n",
      "Epoch: 24, Average Loss: 2.4005\n",
      "Epoch: 25, Average Loss: 2.3990\n",
      "Epoch: 26, Average Loss: 2.3977\n",
      "Epoch: 27, Average Loss: 2.3964\n",
      "Epoch: 28, Average Loss: 2.3952\n",
      "Epoch: 29, Average Loss: 2.3941\n",
      "Epoch: 30, Average Loss: 2.3930\n",
      "Epoch: 31, Average Loss: 2.3920\n",
      "Epoch: 32, Average Loss: 2.3911\n",
      "Epoch: 33, Average Loss: 2.3902\n",
      "Epoch: 34, Average Loss: 2.3894\n",
      "Epoch: 35, Average Loss: 2.3886\n",
      "Epoch: 36, Average Loss: 2.3878\n",
      "Epoch: 37, Average Loss: 2.3871\n",
      "Epoch: 38, Average Loss: 2.3864\n",
      "Epoch: 39, Average Loss: 2.3857\n",
      "Epoch: 40, Average Loss: 2.3851\n",
      "Epoch: 41, Average Loss: 2.3845\n",
      "Epoch: 42, Average Loss: 2.3839\n",
      "Epoch: 43, Average Loss: 2.3833\n",
      "Epoch: 44, Average Loss: 2.3828\n",
      "Epoch: 45, Average Loss: 2.3823\n",
      "Epoch: 46, Average Loss: 2.3817\n",
      "Epoch: 47, Average Loss: 2.3813\n",
      "Epoch: 48, Average Loss: 2.3808\n",
      "Epoch: 49, Average Loss: 2.3803\n",
      "Epoch: 50, Average Loss: 2.3799\n"
     ]
    },
    {
     "data": {
      "text/html": [],
      "text/plain": [
       "<IPython.core.display.HTML object>"
      ]
     },
     "metadata": {},
     "output_type": "display_data"
    },
    {
     "data": {
      "text/html": [
       "<br>    <style><br>        .wandb-row {<br>            display: flex;<br>            flex-direction: row;<br>            flex-wrap: wrap;<br>            justify-content: flex-start;<br>            width: 100%;<br>        }<br>        .wandb-col {<br>            display: flex;<br>            flex-direction: column;<br>            flex-basis: 100%;<br>            flex: 1;<br>            padding: 10px;<br>        }<br>    </style><br><div class=\"wandb-row\"><div class=\"wandb-col\"><h3>Run history:</h3><br/><table class=\"wandb\"><tr><td>avg_epoch_loss</td><td>█▄▄▃▂▂▂▁▁▁▁▁▁▁▁▁▁▁▁▁▁▁▁▁▁▁▁▁▁▁▁▁▁▁▁▁▁▁▁▁</td></tr><tr><td>epoch</td><td>▁▁▁▁▂▂▂▂▂▃▃▃▃▃▃▄▄▄▄▄▅▅▅▅▅▆▆▆▆▆▆▇▇▇▇▇▇███</td></tr><tr><td>final_loss</td><td>▁</td></tr></table><br/></div><div class=\"wandb-col\"><h3>Run summary:</h3><br/><table class=\"wandb\"><tr><td>avg_epoch_loss</td><td>2.37989</td></tr><tr><td>epoch</td><td>50</td></tr><tr><td>final_loss</td><td>2.37989</td></tr></table><br/></div></div>"
      ],
      "text/plain": [
       "<IPython.core.display.HTML object>"
      ]
     },
     "metadata": {},
     "output_type": "display_data"
    },
    {
     "data": {
      "text/html": [
       " View run <strong style=\"color:#cdcd00\">chocolate-sweep-3</strong> at: <a href='https://wandb.ai/biofx/neural-language-model/runs/4zuvps0f' target=\"_blank\">https://wandb.ai/biofx/neural-language-model/runs/4zuvps0f</a><br> View project at: <a href='https://wandb.ai/biofx/neural-language-model' target=\"_blank\">https://wandb.ai/biofx/neural-language-model</a><br>Synced 5 W&B file(s), 0 media file(s), 0 artifact file(s) and 0 other file(s)"
      ],
      "text/plain": [
       "<IPython.core.display.HTML object>"
      ]
     },
     "metadata": {},
     "output_type": "display_data"
    },
    {
     "data": {
      "text/html": [
       "Find logs at: <code>./wandb/run-20250311_224557-4zuvps0f/logs</code>"
      ],
      "text/plain": [
       "<IPython.core.display.HTML object>"
      ]
     },
     "metadata": {},
     "output_type": "display_data"
    },
    {
     "name": "stderr",
     "output_type": "stream",
     "text": [
      "\u001b[34m\u001b[1mwandb\u001b[0m: Agent Starting Run: u6kgbqnv with config:\n",
      "\u001b[34m\u001b[1mwandb\u001b[0m: \tbatch_size: 256\n",
      "\u001b[34m\u001b[1mwandb\u001b[0m: \tembeddings_size: 50\n",
      "\u001b[34m\u001b[1mwandb\u001b[0m: \tepochs: 10\n",
      "\u001b[34m\u001b[1mwandb\u001b[0m: \thidden_units: 256\n",
      "\u001b[34m\u001b[1mwandb\u001b[0m: \tlr: 0.0001\n",
      "\u001b[34m\u001b[1mwandb\u001b[0m: \tngram: 4\n",
      "\u001b[34m\u001b[1mwandb\u001b[0m: \ttest_pct: 0.1\n",
      "Failed to detect the name of this notebook, you can set it manually with the WANDB_NOTEBOOK_NAME environment variable to enable code saving.\n"
     ]
    },
    {
     "data": {
      "text/html": [
       "Ignoring project 'neural-language-model' when running a sweep."
      ],
      "text/plain": [
       "<IPython.core.display.HTML object>"
      ]
     },
     "metadata": {},
     "output_type": "display_data"
    },
    {
     "data": {
      "text/html": [
       "Ignoring entity 'northeastern-university' when running a sweep."
      ],
      "text/plain": [
       "<IPython.core.display.HTML object>"
      ]
     },
     "metadata": {},
     "output_type": "display_data"
    },
    {
     "data": {
      "text/html": [
       "Tracking run with wandb version 0.19.8"
      ],
      "text/plain": [
       "<IPython.core.display.HTML object>"
      ]
     },
     "metadata": {},
     "output_type": "display_data"
    },
    {
     "data": {
      "text/html": [
       "Run data is saved locally in <code>/home/mezallamosas.j/nlp2025/wandb/run-20250311_230542-u6kgbqnv</code>"
      ],
      "text/plain": [
       "<IPython.core.display.HTML object>"
      ]
     },
     "metadata": {},
     "output_type": "display_data"
    },
    {
     "data": {
      "text/html": [
       "Syncing run <strong><a href='https://wandb.ai/biofx/neural-language-model/runs/u6kgbqnv' target=\"_blank\">flowing-sweep-4</a></strong> to <a href='https://wandb.ai/biofx/neural-language-model' target=\"_blank\">Weights & Biases</a> (<a href='https://wandb.me/developer-guide' target=\"_blank\">docs</a>)<br>Sweep page: <a href='https://wandb.ai/biofx/neural-language-model/sweeps/jq051k9u' target=\"_blank\">https://wandb.ai/biofx/neural-language-model/sweeps/jq051k9u</a>"
      ],
      "text/plain": [
       "<IPython.core.display.HTML object>"
      ]
     },
     "metadata": {},
     "output_type": "display_data"
    },
    {
     "data": {
      "text/html": [
       " View project at <a href='https://wandb.ai/biofx/neural-language-model' target=\"_blank\">https://wandb.ai/biofx/neural-language-model</a>"
      ],
      "text/plain": [
       "<IPython.core.display.HTML object>"
      ]
     },
     "metadata": {},
     "output_type": "display_data"
    },
    {
     "data": {
      "text/html": [
       " View sweep at <a href='https://wandb.ai/biofx/neural-language-model/sweeps/jq051k9u' target=\"_blank\">https://wandb.ai/biofx/neural-language-model/sweeps/jq051k9u</a>"
      ],
      "text/plain": [
       "<IPython.core.display.HTML object>"
      ]
     },
     "metadata": {},
     "output_type": "display_data"
    },
    {
     "data": {
      "text/html": [
       " View run at <a href='https://wandb.ai/biofx/neural-language-model/runs/u6kgbqnv' target=\"_blank\">https://wandb.ai/biofx/neural-language-model/runs/u6kgbqnv</a>"
      ],
      "text/plain": [
       "<IPython.core.display.HTML object>"
      ]
     },
     "metadata": {},
     "output_type": "display_data"
    },
    {
     "data": {
      "application/vnd.jupyter.widget-view+json": {
       "model_id": "5a972a079bc347669060c5f56dd172a8",
       "version_major": 2,
       "version_minor": 0
      },
      "text/plain": [
       "Training Epochs:   0%|          | 0/10 [00:00<?, ?it/s]"
      ]
     },
     "metadata": {},
     "output_type": "display_data"
    },
    {
     "name": "stdout",
     "output_type": "stream",
     "text": [
      "Epoch: 1, Average Loss: 2.3421\n",
      "Epoch: 2, Average Loss: 2.1195\n",
      "Epoch: 3, Average Loss: 2.0447\n",
      "Epoch: 4, Average Loss: 1.9929\n",
      "Epoch: 5, Average Loss: 1.9546\n",
      "Epoch: 6, Average Loss: 1.9249\n",
      "Epoch: 7, Average Loss: 1.9011\n",
      "Epoch: 8, Average Loss: 1.8816\n",
      "Epoch: 9, Average Loss: 1.8654\n",
      "Epoch: 10, Average Loss: 1.8513\n"
     ]
    },
    {
     "data": {
      "text/html": [],
      "text/plain": [
       "<IPython.core.display.HTML object>"
      ]
     },
     "metadata": {},
     "output_type": "display_data"
    },
    {
     "data": {
      "text/html": [
       "<br>    <style><br>        .wandb-row {<br>            display: flex;<br>            flex-direction: row;<br>            flex-wrap: wrap;<br>            justify-content: flex-start;<br>            width: 100%;<br>        }<br>        .wandb-col {<br>            display: flex;<br>            flex-direction: column;<br>            flex-basis: 100%;<br>            flex: 1;<br>            padding: 10px;<br>        }<br>    </style><br><div class=\"wandb-row\"><div class=\"wandb-col\"><h3>Run history:</h3><br/><table class=\"wandb\"><tr><td>avg_epoch_loss</td><td>█▅▄▃▂▂▂▁▁▁</td></tr><tr><td>epoch</td><td>▁▂▃▃▄▅▆▆▇█</td></tr><tr><td>final_loss</td><td>▁</td></tr></table><br/></div><div class=\"wandb-col\"><h3>Run summary:</h3><br/><table class=\"wandb\"><tr><td>avg_epoch_loss</td><td>1.85134</td></tr><tr><td>epoch</td><td>10</td></tr><tr><td>final_loss</td><td>1.85134</td></tr></table><br/></div></div>"
      ],
      "text/plain": [
       "<IPython.core.display.HTML object>"
      ]
     },
     "metadata": {},
     "output_type": "display_data"
    },
    {
     "data": {
      "text/html": [
       " View run <strong style=\"color:#cdcd00\">flowing-sweep-4</strong> at: <a href='https://wandb.ai/biofx/neural-language-model/runs/u6kgbqnv' target=\"_blank\">https://wandb.ai/biofx/neural-language-model/runs/u6kgbqnv</a><br> View project at: <a href='https://wandb.ai/biofx/neural-language-model' target=\"_blank\">https://wandb.ai/biofx/neural-language-model</a><br>Synced 5 W&B file(s), 0 media file(s), 0 artifact file(s) and 0 other file(s)"
      ],
      "text/plain": [
       "<IPython.core.display.HTML object>"
      ]
     },
     "metadata": {},
     "output_type": "display_data"
    },
    {
     "data": {
      "text/html": [
       "Find logs at: <code>./wandb/run-20250311_230542-u6kgbqnv/logs</code>"
      ],
      "text/plain": [
       "<IPython.core.display.HTML object>"
      ]
     },
     "metadata": {},
     "output_type": "display_data"
    },
    {
     "name": "stderr",
     "output_type": "stream",
     "text": [
      "\u001b[34m\u001b[1mwandb\u001b[0m: Sweep Agent: Waiting for job.\n",
      "\u001b[34m\u001b[1mwandb\u001b[0m: Job received.\n",
      "\u001b[34m\u001b[1mwandb\u001b[0m: Agent Starting Run: swhmvt65 with config:\n",
      "\u001b[34m\u001b[1mwandb\u001b[0m: \tbatch_size: 256\n",
      "\u001b[34m\u001b[1mwandb\u001b[0m: \tembeddings_size: 100\n",
      "\u001b[34m\u001b[1mwandb\u001b[0m: \tepochs: 25\n",
      "\u001b[34m\u001b[1mwandb\u001b[0m: \thidden_units: 512\n",
      "\u001b[34m\u001b[1mwandb\u001b[0m: \tlr: 1e-05\n",
      "\u001b[34m\u001b[1mwandb\u001b[0m: \tngram: 5\n",
      "\u001b[34m\u001b[1mwandb\u001b[0m: \ttest_pct: 0.1\n",
      "Failed to detect the name of this notebook, you can set it manually with the WANDB_NOTEBOOK_NAME environment variable to enable code saving.\n"
     ]
    },
    {
     "data": {
      "text/html": [
       "Ignoring project 'neural-language-model' when running a sweep."
      ],
      "text/plain": [
       "<IPython.core.display.HTML object>"
      ]
     },
     "metadata": {},
     "output_type": "display_data"
    },
    {
     "data": {
      "text/html": [
       "Ignoring entity 'northeastern-university' when running a sweep."
      ],
      "text/plain": [
       "<IPython.core.display.HTML object>"
      ]
     },
     "metadata": {},
     "output_type": "display_data"
    },
    {
     "data": {
      "text/html": [
       "Tracking run with wandb version 0.19.8"
      ],
      "text/plain": [
       "<IPython.core.display.HTML object>"
      ]
     },
     "metadata": {},
     "output_type": "display_data"
    },
    {
     "data": {
      "text/html": [
       "Run data is saved locally in <code>/home/mezallamosas.j/nlp2025/wandb/run-20250311_231112-swhmvt65</code>"
      ],
      "text/plain": [
       "<IPython.core.display.HTML object>"
      ]
     },
     "metadata": {},
     "output_type": "display_data"
    },
    {
     "data": {
      "text/html": [
       "Syncing run <strong><a href='https://wandb.ai/biofx/neural-language-model/runs/swhmvt65' target=\"_blank\">cool-sweep-5</a></strong> to <a href='https://wandb.ai/biofx/neural-language-model' target=\"_blank\">Weights & Biases</a> (<a href='https://wandb.me/developer-guide' target=\"_blank\">docs</a>)<br>Sweep page: <a href='https://wandb.ai/biofx/neural-language-model/sweeps/jq051k9u' target=\"_blank\">https://wandb.ai/biofx/neural-language-model/sweeps/jq051k9u</a>"
      ],
      "text/plain": [
       "<IPython.core.display.HTML object>"
      ]
     },
     "metadata": {},
     "output_type": "display_data"
    },
    {
     "data": {
      "text/html": [
       " View project at <a href='https://wandb.ai/biofx/neural-language-model' target=\"_blank\">https://wandb.ai/biofx/neural-language-model</a>"
      ],
      "text/plain": [
       "<IPython.core.display.HTML object>"
      ]
     },
     "metadata": {},
     "output_type": "display_data"
    },
    {
     "data": {
      "text/html": [
       " View sweep at <a href='https://wandb.ai/biofx/neural-language-model/sweeps/jq051k9u' target=\"_blank\">https://wandb.ai/biofx/neural-language-model/sweeps/jq051k9u</a>"
      ],
      "text/plain": [
       "<IPython.core.display.HTML object>"
      ]
     },
     "metadata": {},
     "output_type": "display_data"
    },
    {
     "data": {
      "text/html": [
       " View run at <a href='https://wandb.ai/biofx/neural-language-model/runs/swhmvt65' target=\"_blank\">https://wandb.ai/biofx/neural-language-model/runs/swhmvt65</a>"
      ],
      "text/plain": [
       "<IPython.core.display.HTML object>"
      ]
     },
     "metadata": {},
     "output_type": "display_data"
    },
    {
     "data": {
      "application/vnd.jupyter.widget-view+json": {
       "model_id": "ab9993e9f6c444fda0bec06df5264f73",
       "version_major": 2,
       "version_minor": 0
      },
      "text/plain": [
       "Training Epochs:   0%|          | 0/25 [00:00<?, ?it/s]"
      ]
     },
     "metadata": {},
     "output_type": "display_data"
    },
    {
     "name": "stdout",
     "output_type": "stream",
     "text": [
      "Epoch: 1, Average Loss: 2.7429\n",
      "Epoch: 2, Average Loss: 2.3330\n",
      "Epoch: 3, Average Loss: 2.2413\n",
      "Epoch: 4, Average Loss: 2.1974\n",
      "Epoch: 5, Average Loss: 2.1675\n",
      "Epoch: 6, Average Loss: 2.1427\n",
      "Epoch: 7, Average Loss: 2.1203\n",
      "Epoch: 8, Average Loss: 2.0995\n",
      "Epoch: 9, Average Loss: 2.0803\n",
      "Epoch: 10, Average Loss: 2.0625\n",
      "Epoch: 11, Average Loss: 2.0460\n",
      "Epoch: 12, Average Loss: 2.0308\n",
      "Epoch: 13, Average Loss: 2.0169\n",
      "Epoch: 14, Average Loss: 2.0041\n",
      "Epoch: 15, Average Loss: 1.9922\n",
      "Epoch: 16, Average Loss: 1.9812\n",
      "Epoch: 17, Average Loss: 1.9708\n",
      "Epoch: 18, Average Loss: 1.9610\n",
      "Epoch: 19, Average Loss: 1.9518\n",
      "Epoch: 20, Average Loss: 1.9430\n",
      "Epoch: 21, Average Loss: 1.9347\n",
      "Epoch: 22, Average Loss: 1.9268\n",
      "Epoch: 23, Average Loss: 1.9193\n",
      "Epoch: 24, Average Loss: 1.9121\n",
      "Epoch: 25, Average Loss: 1.9051\n"
     ]
    },
    {
     "data": {
      "text/html": [],
      "text/plain": [
       "<IPython.core.display.HTML object>"
      ]
     },
     "metadata": {},
     "output_type": "display_data"
    },
    {
     "data": {
      "text/html": [
       "<br>    <style><br>        .wandb-row {<br>            display: flex;<br>            flex-direction: row;<br>            flex-wrap: wrap;<br>            justify-content: flex-start;<br>            width: 100%;<br>        }<br>        .wandb-col {<br>            display: flex;<br>            flex-direction: column;<br>            flex-basis: 100%;<br>            flex: 1;<br>            padding: 10px;<br>        }<br>    </style><br><div class=\"wandb-row\"><div class=\"wandb-col\"><h3>Run history:</h3><br/><table class=\"wandb\"><tr><td>avg_epoch_loss</td><td>█▅▄▃▃▃▃▃▂▂▂▂▂▂▂▂▂▁▁▁▁▁▁▁▁</td></tr><tr><td>epoch</td><td>▁▁▂▂▂▂▃▃▃▄▄▄▅▅▅▅▆▆▆▇▇▇▇██</td></tr><tr><td>final_loss</td><td>▁</td></tr></table><br/></div><div class=\"wandb-col\"><h3>Run summary:</h3><br/><table class=\"wandb\"><tr><td>avg_epoch_loss</td><td>1.90513</td></tr><tr><td>epoch</td><td>25</td></tr><tr><td>final_loss</td><td>1.90513</td></tr></table><br/></div></div>"
      ],
      "text/plain": [
       "<IPython.core.display.HTML object>"
      ]
     },
     "metadata": {},
     "output_type": "display_data"
    },
    {
     "data": {
      "text/html": [
       " View run <strong style=\"color:#cdcd00\">cool-sweep-5</strong> at: <a href='https://wandb.ai/biofx/neural-language-model/runs/swhmvt65' target=\"_blank\">https://wandb.ai/biofx/neural-language-model/runs/swhmvt65</a><br> View project at: <a href='https://wandb.ai/biofx/neural-language-model' target=\"_blank\">https://wandb.ai/biofx/neural-language-model</a><br>Synced 5 W&B file(s), 0 media file(s), 0 artifact file(s) and 0 other file(s)"
      ],
      "text/plain": [
       "<IPython.core.display.HTML object>"
      ]
     },
     "metadata": {},
     "output_type": "display_data"
    },
    {
     "data": {
      "text/html": [
       "Find logs at: <code>./wandb/run-20250311_231112-swhmvt65/logs</code>"
      ],
      "text/plain": [
       "<IPython.core.display.HTML object>"
      ]
     },
     "metadata": {},
     "output_type": "display_data"
    },
    {
     "name": "stderr",
     "output_type": "stream",
     "text": [
      "\u001b[34m\u001b[1mwandb\u001b[0m: Agent Starting Run: ksnzzztr with config:\n",
      "\u001b[34m\u001b[1mwandb\u001b[0m: \tbatch_size: 256\n",
      "\u001b[34m\u001b[1mwandb\u001b[0m: \tembeddings_size: 100\n",
      "\u001b[34m\u001b[1mwandb\u001b[0m: \tepochs: 50\n",
      "\u001b[34m\u001b[1mwandb\u001b[0m: \thidden_units: 512\n",
      "\u001b[34m\u001b[1mwandb\u001b[0m: \tlr: 1e-05\n",
      "\u001b[34m\u001b[1mwandb\u001b[0m: \tngram: 5\n",
      "\u001b[34m\u001b[1mwandb\u001b[0m: \ttest_pct: 0.1\n",
      "Failed to detect the name of this notebook, you can set it manually with the WANDB_NOTEBOOK_NAME environment variable to enable code saving.\n"
     ]
    },
    {
     "data": {
      "text/html": [
       "Ignoring project 'neural-language-model' when running a sweep."
      ],
      "text/plain": [
       "<IPython.core.display.HTML object>"
      ]
     },
     "metadata": {},
     "output_type": "display_data"
    },
    {
     "data": {
      "text/html": [
       "Ignoring entity 'northeastern-university' when running a sweep."
      ],
      "text/plain": [
       "<IPython.core.display.HTML object>"
      ]
     },
     "metadata": {},
     "output_type": "display_data"
    },
    {
     "data": {
      "text/html": [
       "Tracking run with wandb version 0.19.8"
      ],
      "text/plain": [
       "<IPython.core.display.HTML object>"
      ]
     },
     "metadata": {},
     "output_type": "display_data"
    },
    {
     "data": {
      "text/html": [
       "Run data is saved locally in <code>/home/mezallamosas.j/nlp2025/wandb/run-20250311_232409-ksnzzztr</code>"
      ],
      "text/plain": [
       "<IPython.core.display.HTML object>"
      ]
     },
     "metadata": {},
     "output_type": "display_data"
    },
    {
     "data": {
      "text/html": [
       "Syncing run <strong><a href='https://wandb.ai/biofx/neural-language-model/runs/ksnzzztr' target=\"_blank\">sandy-sweep-6</a></strong> to <a href='https://wandb.ai/biofx/neural-language-model' target=\"_blank\">Weights & Biases</a> (<a href='https://wandb.me/developer-guide' target=\"_blank\">docs</a>)<br>Sweep page: <a href='https://wandb.ai/biofx/neural-language-model/sweeps/jq051k9u' target=\"_blank\">https://wandb.ai/biofx/neural-language-model/sweeps/jq051k9u</a>"
      ],
      "text/plain": [
       "<IPython.core.display.HTML object>"
      ]
     },
     "metadata": {},
     "output_type": "display_data"
    },
    {
     "data": {
      "text/html": [
       " View project at <a href='https://wandb.ai/biofx/neural-language-model' target=\"_blank\">https://wandb.ai/biofx/neural-language-model</a>"
      ],
      "text/plain": [
       "<IPython.core.display.HTML object>"
      ]
     },
     "metadata": {},
     "output_type": "display_data"
    },
    {
     "data": {
      "text/html": [
       " View sweep at <a href='https://wandb.ai/biofx/neural-language-model/sweeps/jq051k9u' target=\"_blank\">https://wandb.ai/biofx/neural-language-model/sweeps/jq051k9u</a>"
      ],
      "text/plain": [
       "<IPython.core.display.HTML object>"
      ]
     },
     "metadata": {},
     "output_type": "display_data"
    },
    {
     "data": {
      "text/html": [
       " View run at <a href='https://wandb.ai/biofx/neural-language-model/runs/ksnzzztr' target=\"_blank\">https://wandb.ai/biofx/neural-language-model/runs/ksnzzztr</a>"
      ],
      "text/plain": [
       "<IPython.core.display.HTML object>"
      ]
     },
     "metadata": {},
     "output_type": "display_data"
    },
    {
     "data": {
      "application/vnd.jupyter.widget-view+json": {
       "model_id": "537ee158d3684d2b88bb26dbd53ec378",
       "version_major": 2,
       "version_minor": 0
      },
      "text/plain": [
       "Training Epochs:   0%|          | 0/50 [00:00<?, ?it/s]"
      ]
     },
     "metadata": {},
     "output_type": "display_data"
    },
    {
     "name": "stdout",
     "output_type": "stream",
     "text": [
      "Epoch: 1, Average Loss: 2.7468\n",
      "Epoch: 2, Average Loss: 2.3351\n",
      "Epoch: 3, Average Loss: 2.2432\n",
      "Epoch: 4, Average Loss: 2.1984\n"
     ]
    }
   ],
   "source": [
    "# Set count to the number of runs you wish to execute; here, 5 runs are used as an example.\n",
    "wandb.agent(sweep_id, function=main, count=500)"
   ]
  },
  {
   "cell_type": "code",
   "execution_count": null,
   "metadata": {},
   "outputs": [],
   "source": []
  }
 ],
 "metadata": {
  "kernelspec": {
   "display_name": "nlp",
   "language": "python",
   "name": "nlp"
  },
  "language_info": {
   "codemirror_mode": {
    "name": "ipython",
    "version": 3
   },
   "file_extension": ".py",
   "mimetype": "text/x-python",
   "name": "python",
   "nbconvert_exporter": "python",
   "pygments_lexer": "ipython3",
   "version": "3.9.21"
  }
 },
 "nbformat": 4,
 "nbformat_minor": 4
}
